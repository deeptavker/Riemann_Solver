{
 "cells": [
  {
   "cell_type": "markdown",
   "metadata": {
    "deletable": true,
    "editable": true
   },
   "source": [
    "### Laney's first problem\n",
    "\n",
    "- du/dt + du/dx = 0 \n",
    "- u(x, 0) = -sin(pi * x)\n",
    "- Periodic in [-1,1]\n",
    "\n",
    "Find u(x, 40)"
   ]
  },
  {
   "cell_type": "code",
   "execution_count": 1,
   "metadata": {
    "collapsed": false,
    "deletable": true,
    "editable": true
   },
   "outputs": [
    {
     "data": {
      "text/plain": [
       "[<matplotlib.lines.Line2D at 0x120782f50>]"
      ]
     },
     "execution_count": 1,
     "metadata": {},
     "output_type": "execute_result"
    },
    {
     "data": {
      "image/png": "[encoded data removed]",
      "text/plain": [
       "<Figure size 432x288 with 1 Axes>"
      ]
     },
     "metadata": {},
     "output_type": "display_data"
    }
   ],
   "source": [
    "%matplotlib inline\n",
    "from matplotlib import pyplot as plt\n",
    "from riemann import *\n",
    "\n",
    "## Setup variables ##\n",
    "\n",
    "points = np.linspace(-1,1,40)\n",
    "dx = points[1] - points[0]\n",
    "arr1 = [-1-dx*i for i in range(1,4)]\n",
    "arr1.reverse()\n",
    "extended_points = np.array(arr1 + list(points) + [1+dx*i for i in range(1,4)])\n",
    "points = extended_points\n",
    "\n",
    "dx = points[1] - points[0]\n",
    "hdx = 2\n",
    "h = hdx * dx\n",
    "dt = 0.01\n",
    "tf = 0.1\n",
    "times = np.linspace(0,tf,int(tf/dt))\n",
    "\n",
    "rho=range(len(points))\n",
    "for i in range(len(points)):\n",
    "    rho[i] = np.sum(vec_kernel(points[i] - points, h, 0))\n",
    "rho = np.array(rho, dtype='float32')\n",
    "\n",
    "phi = np.arange(len(points), dtype='float32')\n",
    "phi = 0.0*phi\n",
    "phi[3:len(points)-3] = -np.sin(np.pi*points[3:len(points)-3])\n",
    "\n",
    "x = points\n",
    "\n",
    "particles = ParticleArray(name = 'batman', rho = rho, phi = phi, x = x, h = h)\n",
    "particles.tag[3:len(points)-3] = 1\n",
    "\n",
    "# Here tag = 1 means it is real and tag = 0 means it is a ghost particle\n",
    "\n",
    "new_sim = RiemannSolver1D(particles = particles, phi_initial = phi, kernel = vec_kernel, EGN = 1)\n",
    "\n",
    "new_sim.configure_solver(0.1, 40)\n",
    "for i in range(int(new_sim.tf/new_sim.dt)):\n",
    "    new_sim.update_rho()\n",
    "    new_sim.update_field_euler()\n",
    "    new_sim.update_position_euler(is_periodic=True, period=[-1,1])\n",
    "plt.plot(new_sim.particles.x[3:new_sim.nopart-3], new_sim.particles.phi[3:new_sim.nopart-3])\n",
    "  "
   ]
  },
  {
   "cell_type": "markdown",
   "metadata": {
    "deletable": true,
    "editable": true
   },
   "source": [
    "### Laney's Second problem\n",
    "\n",
    "- du/dt + du/dx = 0 \n",
    "- u(x, 0) = 1 if |x| < 1/3 O/w = 0\n",
    "- Periodic in [-1,1]\n",
    "\n",
    "Find u(x, 40)"
   ]
  },
  {
   "cell_type": "code",
   "execution_count": 2,
   "metadata": {
    "collapsed": false,
    "deletable": true,
    "editable": true
   },
   "outputs": [
    {
     "data": {
      "text/plain": [
       "[<matplotlib.lines.Line2D at 0x1208b9e90>]"
      ]
     },
     "execution_count": 2,
     "metadata": {},
     "output_type": "execute_result"
    },
    {
     "data": {
      "image/png": "[encoded data removed]",
      "text/plain": [
       "<Figure size 432x288 with 1 Axes>"
      ]
     },
     "metadata": {},
     "output_type": "display_data"
    }
   ],
   "source": [
    "%matplotlib inline\n",
    "from matplotlib import pyplot as plt\n",
    "from riemann import *\n",
    "\n",
    "## Setup variables ##\n",
    "\n",
    "points = np.linspace(-1,1,40)\n",
    "dx = points[1] - points[0]\n",
    "arr1 = [-1-dx*i for i in range(1,4)]\n",
    "arr1.reverse()\n",
    "extended_points = np.array(arr1 + list(points) + [1+dx*i for i in range(1,4)])\n",
    "points = extended_points\n",
    "\n",
    "dx = points[1] - points[0]\n",
    "hdx = 2\n",
    "h = hdx * dx\n",
    "dt = 0.01\n",
    "tf = 0.1\n",
    "times = np.linspace(0,tf,int(tf/dt))\n",
    "\n",
    "rho=range(len(points))\n",
    "for i in range(len(points)):\n",
    "    rho[i] = np.sum(vec_kernel(points[i] - points, h, 0))\n",
    "rho = np.array(rho, dtype='float32')\n",
    "\n",
    "phi = np.arange(len(points), dtype='float32')\n",
    "phi[:] = 0.0\n",
    "phi[np.where(abs(points)<(1.0/3))] = 1.0\n",
    "\n",
    "x = points\n",
    "\n",
    "particles = ParticleArray(name = 'batman', rho = rho, phi = phi, x = x, h = h)\n",
    "particles.tag[3:len(points)-3] = 1\n",
    "\n",
    "# Here tag = 1 means it is real and tag = 0 means it is a ghost particle\n",
    "\n",
    "new_sim = RiemannSolver1D(particles = particles, phi_initial = phi, kernel = vec_kernel, EGN = 1)\n",
    "\n",
    "new_sim.configure_solver(0.1, 40)\n",
    "for i in range(int(new_sim.tf/new_sim.dt)):\n",
    "    new_sim.update_rho()\n",
    "    new_sim.update_field_euler()\n",
    "    new_sim.update_position_euler(is_periodic=True, period=[-1,1])\n",
    "plt.plot(new_sim.particles.x[3:new_sim.nopart-3], new_sim.particles.phi[3:new_sim.nopart-3])\n",
    "  "
   ]
  },
  {
   "cell_type": "markdown",
   "metadata": {
    "deletable": true,
    "editable": true
   },
   "source": [
    "### Laney's Third problem\n",
    "\n",
    "- du/dt + u\\*du/dx = 0 \n",
    "- u(x, 0) = 1 if |x| < 1/3 O/w = 0\n",
    "- Periodic in [-1,1]\n",
    "\n",
    "Find u(x, 0.6)"
   ]
  },
  {
   "cell_type": "code",
   "execution_count": 1,
   "metadata": {
    "collapsed": false,
    "deletable": true,
    "editable": true,
    "scrolled": true
   },
   "outputs": [
    {
     "data": {
      "text/plain": [
       "<matplotlib.collections.PathCollection at 0x11b11ff10>"
      ]
     },
     "execution_count": 1,
     "metadata": {},
     "output_type": "execute_result"
    },
    {
     "data": {
      "image/png": "[encoded data removed]",
      "text/plain": [
       "<Figure size 432x288 with 1 Axes>"
      ]
     },
     "metadata": {},
     "output_type": "display_data"
    }
   ],
   "source": [
    "%matplotlib inline\n",
    "from matplotlib import pyplot as plt\n",
    "from riemann import *\n",
    "\n",
    "## Setup variables ##\n",
    "\n",
    "points = np.linspace(-1,1,40)\n",
    "dx = points[1] - points[0]\n",
    "arr1 = [-1-dx*i for i in range(1,4)]\n",
    "arr1.reverse()\n",
    "extended_points = np.array(arr1 + list(points) + [1+dx*i for i in range(1,4)])\n",
    "points = extended_points\n",
    "\n",
    "dx = points[1] - points[0]\n",
    "hdx = 2\n",
    "h = hdx * dx\n",
    "dt = 0.01\n",
    "tf = 0.1\n",
    "times = np.linspace(0,tf,int(tf/dt))\n",
    "\n",
    "rho=range(len(points))\n",
    "for i in range(len(points)):\n",
    "    rho[i] = np.sum(vec_kernel(points[i] - points, h, 0))\n",
    "rho = np.array(rho, dtype='float32')\n",
    "\n",
    "phi = np.arange(len(points), dtype='float32')\n",
    "phi[:] = 0.0\n",
    "phi[np.where(abs(points)<(1.0/3))] = 1.0\n",
    "\n",
    "x = points\n",
    "\n",
    "particles = ParticleArray(name = 'batman', rho = rho, phi = phi, x = x, h = h)\n",
    "particles.tag[3:len(points)-3] = 1\n",
    "\n",
    "# Here tag = 1 means it is real and tag = 0 means it is a ghost particle\n",
    "\n",
    "new_sim = RiemannSolver1D(particles = particles, phi_initial = phi, kernel = vec_kernel, EGN = 1)\n",
    "\n",
    "new_sim.configure_solver(0.01, 0.6)\n",
    "for i in range(int(new_sim.tf/new_sim.dt)):\n",
    "    new_sim.update_rho()\n",
    "    new_sim.update_field_euler(field=True)\n",
    "    new_sim.update_position_euler(is_periodic=True, period=[-1,1], field=True)\n",
    "plt.scatter(new_sim.particles.x[3:new_sim.nopart-3], new_sim.particles.phi[3:new_sim.nopart-3])\n",
    "  "
   ]
  },
  {
   "cell_type": "markdown",
   "metadata": {
    "deletable": true,
    "editable": true
   },
   "source": [
    "### Laney's Fourth problem\n",
    "\n",
    "- du/dt + u\\*du/dx = 0 \n",
    "- u(x, 0) = 1 if |x| < 1/3 O/w = -1\n",
    "- Periodic in [-1,1]\n",
    "\n",
    "Find u(x, 0.3)"
   ]
  },
  {
   "cell_type": "code",
   "execution_count": 2,
   "metadata": {
    "collapsed": false,
    "deletable": true,
    "editable": true
   },
   "outputs": [
    {
     "data": {
      "text/plain": [
       "<matplotlib.collections.PathCollection at 0x11b248e90>"
      ]
     },
     "execution_count": 2,
     "metadata": {},
     "output_type": "execute_result"
    },
    {
     "data": {
      "image/png": "[encoded data removed]",
      "text/plain": [
       "<Figure size 432x288 with 1 Axes>"
      ]
     },
     "metadata": {},
     "output_type": "display_data"
    }
   ],
   "source": [
    "%matplotlib inline\n",
    "from matplotlib import pyplot as plt\n",
    "from riemann import *\n",
    "\n",
    "## Setup variables ##\n",
    "\n",
    "points = np.linspace(-1,1,40)\n",
    "dx = points[1] - points[0]\n",
    "arr1 = [-1-dx*i for i in range(1,4)]\n",
    "arr1.reverse()\n",
    "extended_points = np.array(arr1 + list(points) + [1+dx*i for i in range(1,4)])\n",
    "points = extended_points\n",
    "\n",
    "dx = points[1] - points[0]\n",
    "hdx = 2\n",
    "h = hdx * dx\n",
    "dt = 0.01\n",
    "tf = 0.1\n",
    "times = np.linspace(0,tf,int(tf/dt))\n",
    "\n",
    "rho=range(len(points))\n",
    "for i in range(len(points)):\n",
    "    rho[i] = np.sum(vec_kernel(points[i] - points, h, 0))\n",
    "rho = np.array(rho, dtype='float32')\n",
    "\n",
    "phi = np.arange(len(points), dtype='float32')\n",
    "phi[:] = -1\n",
    "phi[np.where(abs(points)<(1.0/3))] = 1.0\n",
    "\n",
    "x = points\n",
    "\n",
    "particles = ParticleArray(name = 'batman', rho = rho, phi = phi, x = x, h = h)\n",
    "particles.tag[3:len(points)-3] = 1\n",
    "\n",
    "# Here tag = 1 means it is real and tag = 0 means it is a ghost particle\n",
    "\n",
    "new_sim = RiemannSolver1D(particles = particles, phi_initial = phi, kernel = vec_kernel, EGN = 1)\n",
    "\n",
    "new_sim.configure_solver(0.01, 0.3)\n",
    "for i in range(int(new_sim.tf/new_sim.dt)):\n",
    "    new_sim.update_rho()\n",
    "    new_sim.update_field_euler(field=True)\n",
    "    new_sim.update_position_euler(is_periodic=True, period=[-1,1], field=True)\n",
    "plt.scatter(new_sim.particles.x[3:new_sim.nopart-3], new_sim.particles.phi[3:new_sim.nopart-3])\n",
    "  "
   ]
  },
  {
   "cell_type": "code",
   "execution_count": null,
   "metadata": {
    "collapsed": true,
    "deletable": true,
    "editable": true
   },
   "outputs": [],
   "source": []
  }
 ],
 "metadata": {
  "kernelspec": {
   "display_name": "Python 2",
   "language": "python",
   "name": "python2"
  },
  "language_info": {
   "codemirror_mode": {
    "name": "ipython",
    "version": 2
   },
   "file_extension": ".py",
   "mimetype": "text/x-python",
   "name": "python",
   "nbconvert_exporter": "python",
   "pygments_lexer": "ipython2",
   "version": "2.7.15"
  }
 },
 "nbformat": 4,
 "nbformat_minor": 2
}
